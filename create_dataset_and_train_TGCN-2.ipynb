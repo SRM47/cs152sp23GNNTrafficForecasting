{
 "cells": [
  {
   "cell_type": "code",
   "execution_count": 1,
   "metadata": {
    "id": "AdZNWmSqBdPe"
   },
   "outputs": [],
   "source": [
    "# !pip install torch-geometric\n",
    "# !pip install torch-geometric-temporal"
   ]
  },
  {
   "cell_type": "code",
   "execution_count": 2,
   "metadata": {},
   "outputs": [],
   "source": [
    "from traffic_datasets import PemsBayDatasetLoaderSingleValue\n",
    "from models import TrafficA3TGCNSingleShot, TrafficA3TGCN_LSTM\n",
    "from torch_geometric_temporal.signal import temporal_signal_split"
   ]
  },
  {
   "cell_type": "code",
   "execution_count": 3,
   "metadata": {},
   "outputs": [],
   "source": [
    "import torch\n",
    "import torch.nn as nn\n",
    "from torch.optim import Adam"
   ]
  },
  {
   "cell_type": "code",
   "execution_count": 4,
   "metadata": {
    "id": "2F3v3MoIBXcD"
   },
   "outputs": [],
   "source": [
    "dataloader = PemsBayDatasetLoaderSingleValue()"
   ]
  },
  {
   "cell_type": "code",
   "execution_count": 5,
   "metadata": {
    "id": "jc3vsjPA1aIs"
   },
   "outputs": [],
   "source": [
    "NY_TIME_INTERVAL = 15 # the new york traffic data comes in 15 minute intervals\n",
    "PEMS_BAY_INTERVAL = 5 # the SF pems bay traffic sensor data comes in 5 minutes intervals\n",
    "METRLA_INTERVAL = 5 # the SF pems bay traffic sensor data comes in 5 minutes intervals\n",
    "\n",
    "TIME_INTERVAL = PEMS_BAY_INTERVAL # change this!\n",
    "\n",
    "# use the past 60 minutes of data to predict the next 15 minutes of traffic\n",
    "num_in_minutes = 60\n",
    "num_out_minutes = 30\n",
    "\n",
    "# calculation\n",
    "num_in = num_in_minutes//TIME_INTERVAL\n",
    "num_out = num_out_minutes//TIME_INTERVAL"
   ]
  },
  {
   "cell_type": "code",
   "execution_count": 6,
   "metadata": {
    "colab": {
     "base_uri": "https://localhost:8080/"
    },
    "id": "YVtr2MmeBXcD",
    "outputId": "f0d347b6-ec2f-4dd8-d179-8da54911ffdf"
   },
   "outputs": [
    {
     "name": "stdout",
     "output_type": "stream",
     "text": [
      "Number of 5 minute predictor intervals: 12\n",
      "Number of 5 minute estimated intervals: 6\n"
     ]
    }
   ],
   "source": [
    "dataset, _ , _, _ = dataloader.get_dataset(num_in, num_out)\n",
    "print(f\"Number of {TIME_INTERVAL} minute predictor intervals: {num_in}\")\n",
    "print(f\"Number of {TIME_INTERVAL} minute estimated intervals: {num_out}\")"
   ]
  },
  {
   "cell_type": "code",
   "execution_count": 7,
   "metadata": {
    "colab": {
     "base_uri": "https://localhost:8080/"
    },
    "id": "ogd760UYLLOp",
    "outputId": "ed4e1bd5-a0c4-4d45-d32d-599a08583b7d"
   },
   "outputs": [
    {
     "data": {
      "text/plain": [
       "Data(x=[325, 2, 12], edge_index=[2, 2694], edge_attr=[2694], y=[325, 6])"
      ]
     },
     "execution_count": 7,
     "metadata": {},
     "output_type": "execute_result"
    }
   ],
   "source": [
    "dataset[0]"
   ]
  },
  {
   "cell_type": "code",
   "execution_count": 8,
   "metadata": {
    "id": "2U7QpweINsiU"
   },
   "outputs": [],
   "source": [
    "train_dataset, test_dataset = temporal_signal_split(dataset, train_ratio=0.8)"
   ]
  },
  {
   "cell_type": "code",
   "execution_count": 9,
   "metadata": {},
   "outputs": [],
   "source": [
    "device = torch.device('cuda') # cuda:0, cuda:1, cuda:2"
   ]
  },
  {
   "cell_type": "code",
   "execution_count": 10,
   "metadata": {},
   "outputs": [],
   "source": [
    "# define hyperparameters\n",
    "lr = 0.01\n",
    "weight_decay = 0.000\n",
    "dropout = 0.1\n",
    "batch_size = 64\n",
    "num_epochs = 10"
   ]
  },
  {
   "cell_type": "code",
   "execution_count": 11,
   "metadata": {},
   "outputs": [],
   "source": [
    "# define model\n",
    "model = TrafficA3TGCNSingleShot(\n",
    "    node_features=2, \n",
    "    periods_in=num_in, \n",
    "    periods_out = num_out, \n",
    "    dropout_rate = dropout, \n",
    "    batch_size=batch_size\n",
    ").to(device)\n",
    "\n",
    "\n",
    "# model = TrafficA3TGCN_LSTM(\n",
    "#     node_features=2, \n",
    "#     node_out_features=1,\n",
    "#     periods_in=num_in, \n",
    "#     periods_out = num_out, \n",
    "#     dropout_rate = dropout, \n",
    "#     batch_size=batch_size\n",
    "# ).to(device)\n"
   ]
  },
  {
   "cell_type": "code",
   "execution_count": 12,
   "metadata": {
    "id": "e6kZZoix32Rq"
   },
   "outputs": [],
   "source": [
    "# define optimizer and loss function\n",
    "optimizer = Adam(model.parameters(), lr = lr, weight_decay = weight_decay)\n",
    "criterion = nn.L1Loss(reduction=\"mean\") # can change reduction=\"sum\" and see what happens"
   ]
  },
  {
   "cell_type": "code",
   "execution_count": 13,
   "metadata": {},
   "outputs": [],
   "source": [
    "iterable_train = list(iter(dataset))"
   ]
  },
  {
   "cell_type": "code",
   "execution_count": 14,
   "metadata": {},
   "outputs": [
    {
     "name": "stdout",
     "output_type": "stream",
     "text": [
      "X Batch Shape: torch.Size([64, 325, 2, 12])\n",
      "Edge Index Shape: torch.Size([2, 2694])\n",
      "Edge Features Shape: torch.Size([2694])\n",
      "Y hat Batch Shape (before squeeze): torch.Size([64, 325, 6])\n",
      "Y Batch Shape: torch.Size([64, 325, 6])\n",
      "Y hat Batch Shape (after squeeze): torch.Size([64, 325, 6])\n"
     ]
    },
    {
     "name": "stderr",
     "output_type": "stream",
     "text": [
      "/opt/mambaforge/envs/cs152/lib/python3.10/site-packages/torch/nn/functional.py:1956: UserWarning: nn.functional.tanh is deprecated. Use torch.tanh instead.\n",
      "  warnings.warn(\"nn.functional.tanh is deprecated. Use torch.tanh instead.\")\n"
     ]
    }
   ],
   "source": [
    "batch_instances = iterable_train[0:0+batch_size]\n",
    "# (batch_size, num_nodes, node_in_features, periods_in)\n",
    "X_batch = torch.stack([instance.x for instance in batch_instances]).to(device)\n",
    "# (batch_size, num_nodes, node_out_features, periods_out)\n",
    "Y_batch = torch.stack([instance.y for instance in batch_instances]).to(device)\n",
    "print(f\"X Batch Shape: {X_batch.shape}\")\n",
    "edge_index_batch = batch_instances[0].edge_index.to(device)\n",
    "print(f\"Edge Index Shape: {edge_index_batch.shape}\")\n",
    "edge_features_batch = batch_instances[0].edge_attr.to(device)\n",
    "print(f\"Edge Features Shape: {edge_features_batch.shape}\")\n",
    "# (batch_size, num_nodes, node_out_features, periods_out)\n",
    "y_hat = model(X_batch, edge_index_batch, edge_features_batch)\n",
    "print(f\"Y hat Batch Shape (before squeeze): {y_hat.shape}\")\n",
    "# for this specific example, when node_out_features=1, I have to speeze the 2nd (really 3rd) dimension\n",
    "# y_hat = y_hat.squeeze(2) # ONLY FOR LSTM\n",
    "print(f\"Y Batch Shape: {Y_batch.shape}\")\n",
    "print(f\"Y hat Batch Shape (after squeeze): {y_hat.shape}\")"
   ]
  },
  {
   "cell_type": "code",
   "execution_count": 15,
   "metadata": {
    "id": "gmKniVVZwMBy"
   },
   "outputs": [],
   "source": [
    "from tqdm import tqdm_notebook, tqdm_gui\n",
    "import tqdm\n",
    "from random import shuffle\n",
    "from fastprogress.fastprogress import progress_bar, master_bar\n",
    "import matplotlib.pyplot as plt\n",
    "from jupyterthemes import jtplot\n",
    "\n",
    "jtplot.style(context=\"talk\")\n",
    "mb = master_bar(range(num_epochs))\n",
    "mb.names = [\"Train Loss\"]\n",
    "mb.main_bar.comment = f\"Epochs\""
   ]
  },
  {
   "cell_type": "code",
   "execution_count": 16,
   "metadata": {},
   "outputs": [],
   "source": [
    "def update_plots(mb, train_losses, valid_losses, epoch, num_epochs):\n",
    "\n",
    "    # Update plot data\n",
    "    max_loss = max(max(train_losses), max(valid_losses))\n",
    "    min_loss = min(min(train_losses), min(valid_losses))\n",
    "\n",
    "    x_margin = 0.2\n",
    "    x_bounds = [0 - x_margin, num_epochs + x_margin]\n",
    "\n",
    "    y_margin = 0.1 * (max_loss - min_loss)\n",
    "    y_bounds = [min_loss - y_margin, max_loss + y_margin]\n",
    "\n",
    "    train_xaxis = torch.linspace(0, epoch + 1, len(train_losses))\n",
    "    valid_xaxis = torch.linspace(0, epoch + 1, len(valid_losses))\n",
    "    graph_data = [[train_xaxis, train_losses], [valid_xaxis, valid_losses]]\n",
    "\n",
    "    mb.update_graph(graph_data, x_bounds, y_bounds)"
   ]
  },
  {
   "cell_type": "code",
   "execution_count": 17,
   "metadata": {
    "colab": {
     "base_uri": "https://localhost:8080/",
     "height": 49,
     "referenced_widgets": [
      "756ef50b87a142d6b2ee04b992b27c21",
      "3d2c9c8b703c4b579e726843da362981",
      "e518a2d3e34645a5a23b25ab27ac42b3",
      "3fe16d4f680848bdad17917d814e4f9d",
      "1563c13bec8847348ddeef40313faaed",
      "33381808d46a4ba1bf7f4e8339daddf2",
      "c83599f352204e51b65da99f83ba6d92",
      "02104b9b36f2496db5c38baad5d2a577",
      "57e371e97b00430a832aace93dd874c1",
      "c8d104821cbb4fd0a9b890a99b4d1046",
      "f3fc36b2e3b44a14becf714aaea64bb3"
     ]
    },
    "id": "G27KEVHB5i64",
    "outputId": "29c42e63-5e45-4e98-f9a0-5c392a807a99"
   },
   "outputs": [
    {
     "data": {
      "application/vnd.jupyter.widget-view+json": {
       "model_id": "c8ac0992655f4f1eb6af67093afac1ab",
       "version_major": 2,
       "version_minor": 0
      },
      "text/plain": [
       "Epoch 0:   0%|          | 0/652 [00:00<?, ?it/s]"
      ]
     },
     "metadata": {},
     "output_type": "display_data"
    },
    {
     "name": "stderr",
     "output_type": "stream",
     "text": [
      "/opt/mambaforge/envs/cs152/lib/python3.10/site-packages/torch/nn/functional.py:1956: UserWarning: nn.functional.tanh is deprecated. Use torch.tanh instead.\n",
      "  warnings.warn(\"nn.functional.tanh is deprecated. Use torch.tanh instead.\")\n"
     ]
    },
    {
     "data": {
      "application/vnd.jupyter.widget-view+json": {
       "model_id": "567d26fe37d14d5bab0b2130bb0df9b5",
       "version_major": 2,
       "version_minor": 0
      },
      "text/plain": [
       "Epoch 0 Val:   0%|          | 0/163 [00:00<?, ?it/s]"
      ]
     },
     "metadata": {},
     "output_type": "display_data"
    },
    {
     "name": "stdout",
     "output_type": "stream",
     "text": [
      "Epoch 0 Train Loss: 0.63296698 | Val Loss: 0.60494364\n"
     ]
    },
    {
     "data": {
      "image/png": "[encoded data removed]",
      "text/plain": [
       "<Figure size 600x400 with 1 Axes>"
      ]
     },
     "metadata": {},
     "output_type": "display_data"
    },
    {
     "data": {
      "application/vnd.jupyter.widget-view+json": {
       "model_id": "b2c9dc25fce54343a793a95fa8cf5e4b",
       "version_major": 2,
       "version_minor": 0
      },
      "text/plain": [
       "Epoch 1:   0%|          | 0/652 [00:00<?, ?it/s]"
      ]
     },
     "metadata": {},
     "output_type": "display_data"
    },
    {
     "data": {
      "application/vnd.jupyter.widget-view+json": {
       "model_id": "6f936485f9b74a9db1c60362f7c6f738",
       "version_major": 2,
       "version_minor": 0
      },
      "text/plain": [
       "Epoch 1 Val:   0%|          | 0/163 [00:00<?, ?it/s]"
      ]
     },
     "metadata": {},
     "output_type": "display_data"
    },
    {
     "name": "stdout",
     "output_type": "stream",
     "text": [
      "Epoch 1 Train Loss: 0.62130009 | Val Loss: 0.60371153\n"
     ]
    },
    {
     "data": {
      "application/vnd.jupyter.widget-view+json": {
       "model_id": "4fe47f48c1d24938adce4f06afab1699",
       "version_major": 2,
       "version_minor": 0
      },
      "text/plain": [
       "Epoch 2:   0%|          | 0/652 [00:00<?, ?it/s]"
      ]
     },
     "metadata": {},
     "output_type": "display_data"
    },
    {
     "data": {
      "application/vnd.jupyter.widget-view+json": {
       "model_id": "e99f35ca20664efd94932a92fbd3ad78",
       "version_major": 2,
       "version_minor": 0
      },
      "text/plain": [
       "Epoch 2 Val:   0%|          | 0/163 [00:00<?, ?it/s]"
      ]
     },
     "metadata": {},
     "output_type": "display_data"
    },
    {
     "name": "stdout",
     "output_type": "stream",
     "text": [
      "Epoch 2 Train Loss: 0.62066368 | Val Loss: 0.60443193\n"
     ]
    },
    {
     "data": {
      "application/vnd.jupyter.widget-view+json": {
       "model_id": "4816343e69c34fa8a9ac54076a03efb8",
       "version_major": 2,
       "version_minor": 0
      },
      "text/plain": [
       "Epoch 3:   0%|          | 0/652 [00:00<?, ?it/s]"
      ]
     },
     "metadata": {},
     "output_type": "display_data"
    },
    {
     "data": {
      "application/vnd.jupyter.widget-view+json": {
       "model_id": "9a4b3389a7d34fd6b6a3ed606319d2f0",
       "version_major": 2,
       "version_minor": 0
      },
      "text/plain": [
       "Epoch 3 Val:   0%|          | 0/163 [00:00<?, ?it/s]"
      ]
     },
     "metadata": {},
     "output_type": "display_data"
    },
    {
     "name": "stdout",
     "output_type": "stream",
     "text": [
      "Epoch 3 Train Loss: 0.62063021 | Val Loss: 0.60489424\n"
     ]
    },
    {
     "data": {
      "application/vnd.jupyter.widget-view+json": {
       "model_id": "330829c06ab344c68910c8eebe6711dd",
       "version_major": 2,
       "version_minor": 0
      },
      "text/plain": [
       "Epoch 4:   0%|          | 0/652 [00:00<?, ?it/s]"
      ]
     },
     "metadata": {},
     "output_type": "display_data"
    },
    {
     "data": {
      "application/vnd.jupyter.widget-view+json": {
       "model_id": "0161e90b818a4feeb760d9446315d405",
       "version_major": 2,
       "version_minor": 0
      },
      "text/plain": [
       "Epoch 4 Val:   0%|          | 0/163 [00:00<?, ?it/s]"
      ]
     },
     "metadata": {},
     "output_type": "display_data"
    },
    {
     "name": "stdout",
     "output_type": "stream",
     "text": [
      "Epoch 4 Train Loss: 0.62046892 | Val Loss: 0.60368377\n"
     ]
    },
    {
     "data": {
      "application/vnd.jupyter.widget-view+json": {
       "model_id": "18e1f641d9794ec0bc970672d7bad241",
       "version_major": 2,
       "version_minor": 0
      },
      "text/plain": [
       "Epoch 5:   0%|          | 0/652 [00:00<?, ?it/s]"
      ]
     },
     "metadata": {},
     "output_type": "display_data"
    },
    {
     "data": {
      "application/vnd.jupyter.widget-view+json": {
       "model_id": "a346aca30af84919a4bd9a4c2aa3517f",
       "version_major": 2,
       "version_minor": 0
      },
      "text/plain": [
       "Epoch 5 Val:   0%|          | 0/163 [00:00<?, ?it/s]"
      ]
     },
     "metadata": {},
     "output_type": "display_data"
    },
    {
     "name": "stdout",
     "output_type": "stream",
     "text": [
      "Epoch 5 Train Loss: 0.62039636 | Val Loss: 0.60537724\n"
     ]
    },
    {
     "data": {
      "application/vnd.jupyter.widget-view+json": {
       "model_id": "a3b755903b6e4994998374465670d6b8",
       "version_major": 2,
       "version_minor": 0
      },
      "text/plain": [
       "Epoch 6:   0%|          | 0/652 [00:00<?, ?it/s]"
      ]
     },
     "metadata": {},
     "output_type": "display_data"
    },
    {
     "data": {
      "application/vnd.jupyter.widget-view+json": {
       "model_id": "962630acfafa4965b244bd298150de1b",
       "version_major": 2,
       "version_minor": 0
      },
      "text/plain": [
       "Epoch 6 Val:   0%|          | 0/163 [00:00<?, ?it/s]"
      ]
     },
     "metadata": {},
     "output_type": "display_data"
    },
    {
     "name": "stdout",
     "output_type": "stream",
     "text": [
      "Epoch 6 Train Loss: 0.62015319 | Val Loss: 0.60461319\n"
     ]
    },
    {
     "data": {
      "application/vnd.jupyter.widget-view+json": {
       "model_id": "46fefaf61724401abf9244554f37af07",
       "version_major": 2,
       "version_minor": 0
      },
      "text/plain": [
       "Epoch 7:   0%|          | 0/652 [00:00<?, ?it/s]"
      ]
     },
     "metadata": {},
     "output_type": "display_data"
    },
    {
     "data": {
      "application/vnd.jupyter.widget-view+json": {
       "model_id": "dc715950181e47b28346d030fa0aac58",
       "version_major": 2,
       "version_minor": 0
      },
      "text/plain": [
       "Epoch 7 Val:   0%|          | 0/163 [00:00<?, ?it/s]"
      ]
     },
     "metadata": {},
     "output_type": "display_data"
    },
    {
     "name": "stdout",
     "output_type": "stream",
     "text": [
      "Epoch 7 Train Loss: 0.61983799 | Val Loss: 0.60366096\n"
     ]
    },
    {
     "data": {
      "application/vnd.jupyter.widget-view+json": {
       "model_id": "db4b9f8f7da24de8bbaa39305f257caf",
       "version_major": 2,
       "version_minor": 0
      },
      "text/plain": [
       "Epoch 8:   0%|          | 0/652 [00:00<?, ?it/s]"
      ]
     },
     "metadata": {},
     "output_type": "display_data"
    },
    {
     "data": {
      "application/vnd.jupyter.widget-view+json": {
       "model_id": "9b9c55cd0392400aa15d3fb8eb073b3c",
       "version_major": 2,
       "version_minor": 0
      },
      "text/plain": [
       "Epoch 8 Val:   0%|          | 0/163 [00:00<?, ?it/s]"
      ]
     },
     "metadata": {},
     "output_type": "display_data"
    },
    {
     "name": "stdout",
     "output_type": "stream",
     "text": [
      "Epoch 8 Train Loss: 0.61976865 | Val Loss: 0.60298663\n"
     ]
    },
    {
     "data": {
      "application/vnd.jupyter.widget-view+json": {
       "model_id": "adc7d450d6ea408489633efa8d5c694b",
       "version_major": 2,
       "version_minor": 0
      },
      "text/plain": [
       "Epoch 9:   0%|          | 0/652 [00:00<?, ?it/s]"
      ]
     },
     "metadata": {},
     "output_type": "display_data"
    },
    {
     "data": {
      "application/vnd.jupyter.widget-view+json": {
       "model_id": "3a214a2f027742ea824f348b90cb84c2",
       "version_major": 2,
       "version_minor": 0
      },
      "text/plain": [
       "Epoch 9 Val:   0%|          | 0/163 [00:00<?, ?it/s]"
      ]
     },
     "metadata": {},
     "output_type": "display_data"
    },
    {
     "name": "stdout",
     "output_type": "stream",
     "text": [
      "Epoch 9 Train Loss: 0.61980466 | Val Loss: 0.60673084\n"
     ]
    },
    {
     "data": {
      "image/png": "[encoded data removed]",
      "text/plain": [
       "<Figure size 600x400 with 1 Axes>"
      ]
     },
     "metadata": {},
     "output_type": "display_data"
    }
   ],
   "source": [
    "train_losses = []\n",
    "val_losses = []\n",
    "for epoch in range(num_epochs):\n",
    "  model.train()\n",
    "  iterable_train = iter(train_dataset)\n",
    "  # shuffle data\n",
    "  random_permutation = [i for i in range(len(train_dataset.features))]\n",
    "  shuffle(random_permutation)\n",
    "\n",
    "  new_train = [iterable_train[i] for i in random_permutation]\n",
    "\n",
    "  # training loop\n",
    "  batch_size = batch_size\n",
    "\n",
    "  train_loss = 0.0\n",
    "  for i in tqdm.notebook.tqdm(range(0, len(train_dataset.features), batch_size), desc=f\"Epoch {epoch}\"):\n",
    "    batch_instances = new_train[i:i+batch_size]\n",
    "    X_batch = torch.stack([instance.x for instance in batch_instances]).to(device)\n",
    "    Y_batch = torch.stack([instance.y for instance in batch_instances]).to(device)\n",
    "    edge_index_batch = batch_instances[0].edge_index.to(device)\n",
    "    edge_features_batch = batch_instances[0].edge_attr.to(device)\n",
    "\n",
    "    y_hat = model(X_batch, edge_index_batch, edge_features_batch)\n",
    "    # when using the lstm model and node_features = 1, you may want to do y_hat = y_hat.squeeze(2) for the shapes to work out\n",
    "    # y_hat = y_hat.squeeze(2)\n",
    "    # calculate loss\n",
    "    loss = torch.sqrt(criterion(Y_batch,y_hat))\n",
    "    train_loss += loss.item()\n",
    "\n",
    "    # compute gradients and update parameters\n",
    "    optimizer.zero_grad()\n",
    "    loss.backward()\n",
    "    optimizer.step()\n",
    "        \n",
    "  \n",
    "  train_loss /= len(train_dataset.features)/batch_size\n",
    "  train_losses.append(train_loss)\n",
    "  # validation loop\n",
    "  model.eval()\n",
    "  val_dataset = test_dataset\n",
    "  iterable_val = iter(val_dataset)\n",
    "  val_loss = 0.0\n",
    "  \n",
    "  with torch.no_grad():\n",
    "    for i in tqdm.notebook.tqdm(range(0, len(val_dataset.features), batch_size), desc=f\"Epoch {epoch} Val\"):\n",
    "      batch_instances = iterable_val[i:i+batch_size]\n",
    "      X_batch = torch.stack([instance.x for instance in batch_instances]).to(device)\n",
    "      Y_batch = torch.stack([instance.y for instance in batch_instances]).to(device)\n",
    "      edge_index_batch = batch_instances[0].edge_index.to(device)\n",
    "      edge_features_batch = batch_instances[0].edge_attr.to(device)\n",
    "\n",
    "      y_hat = model(X_batch, edge_index_batch, edge_features_batch)\n",
    "      y_hat = y_hat.squeeze(2) # for lstm model only\n",
    "      loss = torch.sqrt(criterion(Y_batch, y_hat))\n",
    "      val_loss += loss.item()\n",
    "     \n",
    "\n",
    "  val_loss /= len(val_dataset.features)/batch_size\n",
    "  val_losses.append(val_loss)\n",
    "    \n",
    "  # print train and validation losses\n",
    "  print(f\"Epoch {epoch} Train Loss: {train_loss:.8f} | Val Loss: {val_loss:.8f}\")\n",
    "\n",
    "  # update the plots\n",
    "  update_plots(mb, train_losses, val_losses, epoch, num_epochs)\n",
    "\n",
    "  \n",
    "\n",
    "    "
   ]
  },
  {
   "cell_type": "code",
   "execution_count": 18,
   "metadata": {},
   "outputs": [],
   "source": [
    "# save the model for inference later\n",
    "torch.save(model.state_dict(), 'temporal_gnn_traffic_lstm.pth')"
   ]
  },
  {
   "cell_type": "code",
   "execution_count": null,
   "metadata": {},
   "outputs": [],
   "source": []
  },
  {
   "cell_type": "code",
   "execution_count": null,
   "metadata": {},
   "outputs": [],
   "source": []
  }
 ],
 "metadata": {
  "accelerator": "GPU",
  "colab": {
   "provenance": []
  },
  "gpuClass": "standard",
  "kernelspec": {
   "display_name": "Python 3 (ipykernel)",
   "language": "python",
   "name": "python3"
  },
  "language_info": {
   "codemirror_mode": {
    "name": "ipython",
    "version": 3
   },
   "file_extension": ".py",
   "mimetype": "text/x-python",
   "name": "python",
   "nbconvert_exporter": "python",
   "pygments_lexer": "ipython3",
   "version": "3.10.8"
  },
  "vscode": {
   "interpreter": {
    "hash": "0adcc2737ebf6a4a119f135174df96668767fca1ef1112612db5ecadf2b6d608"
   }
  },
  "widgets": {
   "application/vnd.jupyter.widget-state+json": {
    "02104b9b36f2496db5c38baad5d2a577": {
     "model_module": "@jupyter-widgets/base",
     "model_module_version": "1.2.0",
     "model_name": "LayoutModel",
     "state": {
      "_model_module": "@jupyter-widgets/base",
      "_model_module_version": "1.2.0",
      "_model_name": "LayoutModel",
      "_view_count": null,
      "_view_module": "@jupyter-widgets/base",
      "_view_module_version": "1.2.0",
      "_view_name": "LayoutView",
      "align_content": null,
      "align_items": null,
      "align_self": null,
      "border": null,
      "bottom": null,
      "display": null,
      "flex": null,
      "flex_flow": null,
      "grid_area": null,
      "grid_auto_columns": null,
      "grid_auto_flow": null,
      "grid_auto_rows": null,
      "grid_column": null,
      "grid_gap": null,
      "grid_row": null,
      "grid_template_areas": null,
      "grid_template_columns": null,
      "grid_template_rows": null,
      "height": null,
      "justify_content": null,
      "justify_items": null,
      "left": null,
      "margin": null,
      "max_height": null,
      "max_width": null,
      "min_height": null,
      "min_width": null,
      "object_fit": null,
      "object_position": null,
      "order": null,
      "overflow": null,
      "overflow_x": null,
      "overflow_y": null,
      "padding": null,
      "right": null,
      "top": null,
      "visibility": null,
      "width": null
     }
    },
    "1563c13bec8847348ddeef40313faaed": {
     "model_module": "@jupyter-widgets/base",
     "model_module_version": "1.2.0",
     "model_name": "LayoutModel",
     "state": {
      "_model_module": "@jupyter-widgets/base",
      "_model_module_version": "1.2.0",
      "_model_name": "LayoutModel",
      "_view_count": null,
      "_view_module": "@jupyter-widgets/base",
      "_view_module_version": "1.2.0",
      "_view_name": "LayoutView",
      "align_content": null,
      "align_items": null,
      "align_self": null,
      "border": null,
      "bottom": null,
      "display": null,
      "flex": null,
      "flex_flow": null,
      "grid_area": null,
      "grid_auto_columns": null,
      "grid_auto_flow": null,
      "grid_auto_rows": null,
      "grid_column": null,
      "grid_gap": null,
      "grid_row": null,
      "grid_template_areas": null,
      "grid_template_columns": null,
      "grid_template_rows": null,
      "height": null,
      "justify_content": null,
      "justify_items": null,
      "left": null,
      "margin": null,
      "max_height": null,
      "max_width": null,
      "min_height": null,
      "min_width": null,
      "object_fit": null,
      "object_position": null,
      "order": null,
      "overflow": null,
      "overflow_x": null,
      "overflow_y": null,
      "padding": null,
      "right": null,
      "top": null,
      "visibility": null,
      "width": null
     }
    },
    "33381808d46a4ba1bf7f4e8339daddf2": {
     "model_module": "@jupyter-widgets/base",
     "model_module_version": "1.2.0",
     "model_name": "LayoutModel",
     "state": {
      "_model_module": "@jupyter-widgets/base",
      "_model_module_version": "1.2.0",
      "_model_name": "LayoutModel",
      "_view_count": null,
      "_view_module": "@jupyter-widgets/base",
      "_view_module_version": "1.2.0",
      "_view_name": "LayoutView",
      "align_content": null,
      "align_items": null,
      "align_self": null,
      "border": null,
      "bottom": null,
      "display": null,
      "flex": null,
      "flex_flow": null,
      "grid_area": null,
      "grid_auto_columns": null,
      "grid_auto_flow": null,
      "grid_auto_rows": null,
      "grid_column": null,
      "grid_gap": null,
      "grid_row": null,
      "grid_template_areas": null,
      "grid_template_columns": null,
      "grid_template_rows": null,
      "height": null,
      "justify_content": null,
      "justify_items": null,
      "left": null,
      "margin": null,
      "max_height": null,
      "max_width": null,
      "min_height": null,
      "min_width": null,
      "object_fit": null,
      "object_position": null,
      "order": null,
      "overflow": null,
      "overflow_x": null,
      "overflow_y": null,
      "padding": null,
      "right": null,
      "top": null,
      "visibility": null,
      "width": null
     }
    },
    "3d2c9c8b703c4b579e726843da362981": {
     "model_module": "@jupyter-widgets/controls",
     "model_module_version": "1.5.0",
     "model_name": "HTMLModel",
     "state": {
      "_dom_classes": [],
      "_model_module": "@jupyter-widgets/controls",
      "_model_module_version": "1.5.0",
      "_model_name": "HTMLModel",
      "_view_count": null,
      "_view_module": "@jupyter-widgets/controls",
      "_view_module_version": "1.5.0",
      "_view_name": "HTMLView",
      "description": "",
      "description_tooltip": null,
      "layout": "IPY_MODEL_33381808d46a4ba1bf7f4e8339daddf2",
      "placeholder": "​",
      "style": "IPY_MODEL_c83599f352204e51b65da99f83ba6d92",
      "value": "Epoch 0:   2%"
     }
    },
    "3fe16d4f680848bdad17917d814e4f9d": {
     "model_module": "@jupyter-widgets/controls",
     "model_module_version": "1.5.0",
     "model_name": "HTMLModel",
     "state": {
      "_dom_classes": [],
      "_model_module": "@jupyter-widgets/controls",
      "_model_module_version": "1.5.0",
      "_model_name": "HTMLModel",
      "_view_count": null,
      "_view_module": "@jupyter-widgets/controls",
      "_view_module_version": "1.5.0",
      "_view_name": "HTMLView",
      "description": "",
      "description_tooltip": null,
      "layout": "IPY_MODEL_c8d104821cbb4fd0a9b890a99b4d1046",
      "placeholder": "​",
      "style": "IPY_MODEL_f3fc36b2e3b44a14becf714aaea64bb3",
      "value": " 729/41670 [01:19&lt;41:10, 16.57it/s]"
     }
    },
    "57e371e97b00430a832aace93dd874c1": {
     "model_module": "@jupyter-widgets/controls",
     "model_module_version": "1.5.0",
     "model_name": "ProgressStyleModel",
     "state": {
      "_model_module": "@jupyter-widgets/controls",
      "_model_module_version": "1.5.0",
      "_model_name": "ProgressStyleModel",
      "_view_count": null,
      "_view_module": "@jupyter-widgets/base",
      "_view_module_version": "1.2.0",
      "_view_name": "StyleView",
      "bar_color": null,
      "description_width": ""
     }
    },
    "756ef50b87a142d6b2ee04b992b27c21": {
     "model_module": "@jupyter-widgets/controls",
     "model_module_version": "1.5.0",
     "model_name": "HBoxModel",
     "state": {
      "_dom_classes": [],
      "_model_module": "@jupyter-widgets/controls",
      "_model_module_version": "1.5.0",
      "_model_name": "HBoxModel",
      "_view_count": null,
      "_view_module": "@jupyter-widgets/controls",
      "_view_module_version": "1.5.0",
      "_view_name": "HBoxView",
      "box_style": "",
      "children": [
       "IPY_MODEL_3d2c9c8b703c4b579e726843da362981",
       "IPY_MODEL_e518a2d3e34645a5a23b25ab27ac42b3",
       "IPY_MODEL_3fe16d4f680848bdad17917d814e4f9d"
      ],
      "layout": "IPY_MODEL_1563c13bec8847348ddeef40313faaed"
     }
    },
    "c83599f352204e51b65da99f83ba6d92": {
     "model_module": "@jupyter-widgets/controls",
     "model_module_version": "1.5.0",
     "model_name": "DescriptionStyleModel",
     "state": {
      "_model_module": "@jupyter-widgets/controls",
      "_model_module_version": "1.5.0",
      "_model_name": "DescriptionStyleModel",
      "_view_count": null,
      "_view_module": "@jupyter-widgets/base",
      "_view_module_version": "1.2.0",
      "_view_name": "StyleView",
      "description_width": ""
     }
    },
    "c8d104821cbb4fd0a9b890a99b4d1046": {
     "model_module": "@jupyter-widgets/base",
     "model_module_version": "1.2.0",
     "model_name": "LayoutModel",
     "state": {
      "_model_module": "@jupyter-widgets/base",
      "_model_module_version": "1.2.0",
      "_model_name": "LayoutModel",
      "_view_count": null,
      "_view_module": "@jupyter-widgets/base",
      "_view_module_version": "1.2.0",
      "_view_name": "LayoutView",
      "align_content": null,
      "align_items": null,
      "align_self": null,
      "border": null,
      "bottom": null,
      "display": null,
      "flex": null,
      "flex_flow": null,
      "grid_area": null,
      "grid_auto_columns": null,
      "grid_auto_flow": null,
      "grid_auto_rows": null,
      "grid_column": null,
      "grid_gap": null,
      "grid_row": null,
      "grid_template_areas": null,
      "grid_template_columns": null,
      "grid_template_rows": null,
      "height": null,
      "justify_content": null,
      "justify_items": null,
      "left": null,
      "margin": null,
      "max_height": null,
      "max_width": null,
      "min_height": null,
      "min_width": null,
      "object_fit": null,
      "object_position": null,
      "order": null,
      "overflow": null,
      "overflow_x": null,
      "overflow_y": null,
      "padding": null,
      "right": null,
      "top": null,
      "visibility": null,
      "width": null
     }
    },
    "e518a2d3e34645a5a23b25ab27ac42b3": {
     "model_module": "@jupyter-widgets/controls",
     "model_module_version": "1.5.0",
     "model_name": "FloatProgressModel",
     "state": {
      "_dom_classes": [],
      "_model_module": "@jupyter-widgets/controls",
      "_model_module_version": "1.5.0",
      "_model_name": "FloatProgressModel",
      "_view_count": null,
      "_view_module": "@jupyter-widgets/controls",
      "_view_module_version": "1.5.0",
      "_view_name": "ProgressView",
      "bar_style": "",
      "description": "",
      "description_tooltip": null,
      "layout": "IPY_MODEL_02104b9b36f2496db5c38baad5d2a577",
      "max": 41670,
      "min": 0,
      "orientation": "horizontal",
      "style": "IPY_MODEL_57e371e97b00430a832aace93dd874c1",
      "value": 729
     }
    },
    "f3fc36b2e3b44a14becf714aaea64bb3": {
     "model_module": "@jupyter-widgets/controls",
     "model_module_version": "1.5.0",
     "model_name": "DescriptionStyleModel",
     "state": {
      "_model_module": "@jupyter-widgets/controls",
      "_model_module_version": "1.5.0",
      "_model_name": "DescriptionStyleModel",
      "_view_count": null,
      "_view_module": "@jupyter-widgets/base",
      "_view_module_version": "1.2.0",
      "_view_name": "StyleView",
      "description_width": ""
     }
    }
   }
  }
 },
 "nbformat": 4,
 "nbformat_minor": 1
}
