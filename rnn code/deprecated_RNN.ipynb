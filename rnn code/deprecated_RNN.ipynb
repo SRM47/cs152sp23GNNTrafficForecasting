{
 "cells": [
  {
   "cell_type": "code",
   "execution_count": null,
   "metadata": {},
   "outputs": [],
   "source": [
    "import torch\n",
    "import torch.nn as nn \n",
    "import numpy as np\n",
    "import pandas as pd"
   ]
  },
  {
   "cell_type": "code",
   "execution_count": null,
   "metadata": {},
   "outputs": [],
   "source": [
    "# Import raw dataset\n",
    "df = pd.read_csv('pems_data.csv')\n"
   ]
  },
  {
   "cell_type": "code",
   "execution_count": null,
   "metadata": {},
   "outputs": [],
   "source": [
    "\n",
    "df = df.drop(\"Timestep\", axis=1)\n",
    "df = df.drop(\"error\", axis=1)"
   ]
  },
  {
   "cell_type": "code",
   "execution_count": null,
   "metadata": {},
   "outputs": [],
   "source": [
    "df.head()"
   ]
  },
  {
   "cell_type": "code",
   "execution_count": null,
   "metadata": {},
   "outputs": [],
   "source": [
    "# check if missing data, assuming 325 sensors each time step\n",
    "num_timesteps = df.shape[0]/325"
   ]
  },
  {
   "cell_type": "code",
   "execution_count": null,
   "metadata": {},
   "outputs": [],
   "source": [
    "arr = df.to_numpy()\n",
    "split_arrs = np.array_split(arr, num_timesteps)\n",
    "split_arrs_np = np.asarray(split_arrs)"
   ]
  },
  {
   "attachments": {},
   "cell_type": "markdown",
   "metadata": {},
   "source": [
    "- L = Input size (number of timesteps) =  325\n",
    "- N = Batch size = 52100\n",
    "- D = Bidirectional = 2\n",
    "- H_in (input features) = 2\n",
    "\n",
    "\n"
   ]
  },
  {
   "cell_type": "code",
   "execution_count": null,
   "metadata": {},
   "outputs": [],
   "source": [
    "tensor = torch.tensor(split_arrs_np).float()"
   ]
  },
  {
   "cell_type": "code",
   "execution_count": null,
   "metadata": {},
   "outputs": [],
   "source": [
    "hidden_size = 64\n",
    "num_layers = 2\n",
    "input_size = 2\n",
    "batch_size = 325\n",
    "rnn = nn.LSTM(input_size=input_size, hidden_size=hidden_size, num_layers=num_layers, bidirectional=True, batch_first=False)\n",
    "\n",
    "D = 2\n",
    "input = tensor\n",
    "h0 = torch.randn(D * num_layers, batch_size, hidden_size)\n",
    "c0 = torch.randn(D * num_layers, batch_size, hidden_size)\n",
    "\n",
    "output, (hn, cn) = rnn.train((input, (h0, c0)))"
   ]
  }
 ],
 "metadata": {
  "kernelspec": {
   "display_name": "Python 3",
   "language": "python",
   "name": "python3"
  },
  "language_info": {
   "codemirror_mode": {
    "name": "ipython",
    "version": 3
   },
   "file_extension": ".py",
   "mimetype": "text/x-python",
   "name": "python",
   "nbconvert_exporter": "python",
   "pygments_lexer": "ipython3",
   "version": "3.9.7"
  },
  "orig_nbformat": 4
 },
 "nbformat": 4,
 "nbformat_minor": 2
}
