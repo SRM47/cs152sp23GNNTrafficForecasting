{
 "cells": [
  {
   "cell_type": "code",
   "execution_count": 46,
   "metadata": {},
   "outputs": [],
   "source": [
    "import torch\n",
    "import torch.nn as nn \n",
    "import numpy as np\n",
    "import pandas as pd"
   ]
  },
  {
   "cell_type": "code",
   "execution_count": 47,
   "metadata": {},
   "outputs": [],
   "source": [
    "# Import raw dataset\n",
    "df = pd.read_csv('data.csv')\n"
   ]
  },
  {
   "cell_type": "code",
   "execution_count": null,
   "metadata": {},
   "outputs": [],
   "source": [
    "# train-test split manually, keeping times unshuffled\n",
    "split = False\n",
    "\n",
    "if split:\n",
    "    mark = round(0.7 * df.shape[0])\n",
    "    train = df[:mark]\n",
    "    test = df[mark:]\n",
    "    print(test.shape)\n",
    "\n",
    "    train.to_csv(\"train.csv\", index=False)\n",
    "    test.to_csv(\"test.csv\", index=False)"
   ]
  },
  {
   "cell_type": "code",
   "execution_count": 54,
   "metadata": {},
   "outputs": [],
   "source": [
    "# converting date column to pandas datetime type\n",
    "df[\"date\"] = df['date'].astype(str)\n",
    "df[\"date\"] = pd.to_datetime(df['date'])"
   ]
  },
  {
   "cell_type": "code",
   "execution_count": 55,
   "metadata": {},
   "outputs": [],
   "source": [
    "# exploration: see number of entries for each date\n",
    "times = df[\"date\"].unique()\n",
    "temp = df.date.value_counts()"
   ]
  },
  {
   "cell_type": "code",
   "execution_count": 63,
   "metadata": {},
   "outputs": [
    {
     "data": {
      "text/plain": [
       "CENTRAL PARK WEST-8 Avenue Line-8 Avenue Line                         52285\n",
       "CONNECTOR-Queens Boulevard-Queens Boulevard                           46913\n",
       "7 AVENUE-Broadway/ 7 Avenue Line-Broadway/ 7 Avenue Line              29088\n",
       "LONG ISLAND EXPRESSWAY-Dead End-Dead end                              23994\n",
       "WILLIAMSBURG BRIDGE-East River Shoreline West-East River Shoreline    22183\n",
       "                                                                      ...  \n",
       "BRONX BOULEVARD-Dead End-Bronx River Shoreline                           24\n",
       "WEST 39 STREET-Lincoln Tunnel Exit-11 Avenue                             24\n",
       "CROOKE AVENUE-St Pauls Place-Brighton Line                               24\n",
       "44 AVENUE-72 Street-Amtrak-connecting Rail Line                          24\n",
       "STATEN ISLAND RAILWAY LINE-Ferry Terminal Drive-Borough Place            24\n",
       "Name: from_to_pair, Length: 10806, dtype: int64"
      ]
     },
     "execution_count": 63,
     "metadata": {},
     "output_type": "execute_result"
    }
   ],
   "source": [
    "# exploration: see number of entries for each street\n",
    "df[\"from_to_pair\"].value_counts()"
   ]
  },
  {
   "cell_type": "code",
   "execution_count": 91,
   "metadata": {},
   "outputs": [
    {
     "name": "stderr",
     "output_type": "stream",
     "text": [
      "C:\\Users\\austi\\AppData\\Local\\Temp\\ipykernel_23872\\4284110750.py:3: SettingWithCopyWarning: \n",
      "A value is trying to be set on a copy of a slice from a DataFrame.\n",
      "Try using .loc[row_indexer,col_indexer] = value instead\n",
      "\n",
      "See the caveats in the documentation: https://pandas.pydata.org/pandas-docs/stable/user_guide/indexing.html#returning-a-view-versus-a-copy\n",
      "  isolated_top_street['date'] = isolated_top_street['date'].apply(lambda x: x.value)\n",
      "c:\\Users\\austi\\AppData\\Local\\Programs\\Python\\Python39\\lib\\site-packages\\pandas\\core\\frame.py:4901: SettingWithCopyWarning: \n",
      "A value is trying to be set on a copy of a slice from a DataFrame\n",
      "\n",
      "See the caveats in the documentation: https://pandas.pydata.org/pandas-docs/stable/user_guide/indexing.html#returning-a-view-versus-a-copy\n",
      "  return super().drop(\n"
     ]
    }
   ],
   "source": [
    "# isolate one street to train on\n",
    "isolated_top_street = df[df[\"from_to_pair\"] == \"CENTRAL PARK WEST-8 Avenue Line-8 Avenue Line\"]\n",
    "isolated_top_street['date'] = isolated_top_street['date'].apply(lambda x: x.value)\n",
    "isolated_top_street.drop('from_to_pair', axis=1, inplace=True)\n",
    "arr = torch.tensor(isolated_top_street.values).long()"
   ]
  },
  {
   "cell_type": "code",
   "execution_count": 93,
   "metadata": {},
   "outputs": [
    {
     "data": {
      "text/plain": [
       "tensor([[1413279000000000000,                  68],\n",
       "        [1413279900000000000,                  75],\n",
       "        [1413280800000000000,                  59],\n",
       "        ...,\n",
       "        [1508109300000000000,                  99],\n",
       "        [1508110200000000000,                  94],\n",
       "        [1508111100000000000,                  81]])"
      ]
     },
     "execution_count": 93,
     "metadata": {},
     "output_type": "execute_result"
    }
   ],
   "source": [
    "arr"
   ]
  },
  {
   "cell_type": "code",
   "execution_count": 60,
   "metadata": {},
   "outputs": [
    {
     "data": {
      "text/plain": [
       "date                       from_to_pair                                                   Vol\n",
       "2013-10-28 11:00:00+00:00  EDISON AV-DUDLEY AV-WELLMAN AV                                 7      2\n",
       "                           TROY ST-ARTHUR KILL RD-DALEHAM ST                              1      2\n",
       "                           ARKANSAS AV-LEXINGTON LA-ISLINGTON ST/GIFFORDS LA              1      2\n",
       "                           GREAVES AV-DALEHAM ST-CROMER ST                                3      2\n",
       "                           DALEHAM ST-GIFFORDS LA-MILES AV                                2      2\n",
       "                                                                                                ..\n",
       "                           CENTRAL PARK W-W 109 ST-FRED DOUGLASS CIR                      96     1\n",
       "                           CENTRAL PARK W-CPW 72 APPR/W 72 ST-W 73 ST                     124    1\n",
       "                           CENTRAL PARK W-COLUMBUS CIR-W 61 ST                            181    1\n",
       "                           CENTRAL PARK W-C P W 85 APPR/W 85 ST-W 86 ST/86 ST TRANSVERSE  145    1\n",
       "                           WOODHAVEN BLVD-PENELOPE AV-EVERTON ST                          334    1\n",
       "Length: 529, dtype: int64"
      ]
     },
     "execution_count": 60,
     "metadata": {},
     "output_type": "execute_result"
    }
   ],
   "source": [
    "# isolate one datetime to train on\n",
    "temp3 = df[df['date'] == pd.to_datetime(\"2013-10-28 11:00:00+00:00\")]\n",
    "temp3.value_counts()\n"
   ]
  },
  {
   "cell_type": "code",
   "execution_count": null,
   "metadata": {},
   "outputs": [],
   "source": [
    "# ON HOLD iterate through dataset\n",
    "if False:\n",
    "    for i, unique_time in enumerate(times):\n",
    "        #print(unique_time, type(unique_time))\n",
    "        temp = df['date'] == unique_time\n",
    "        if unique_time == :\n",
    "            temp.to_csv(\"temp.csv\", index=False)\n",
    "            print(\"done\")\n",
    "    \n",
    "    "
   ]
  },
  {
   "cell_type": "code",
   "execution_count": 85,
   "metadata": {},
   "outputs": [],
   "source": [
    "arr = arr.type(torch.LongTensor)"
   ]
  },
  {
   "cell_type": "code",
   "execution_count": 87,
   "metadata": {},
   "outputs": [
    {
     "data": {
      "text/plain": [
       "torch.Tensor"
      ]
     },
     "execution_count": 87,
     "metadata": {},
     "output_type": "execute_result"
    }
   ],
   "source": [
    "type(arr)"
   ]
  },
  {
   "cell_type": "code",
   "execution_count": 94,
   "metadata": {},
   "outputs": [
    {
     "ename": "RuntimeError",
     "evalue": "expected scalar type Long but found Float",
     "output_type": "error",
     "traceback": [
      "\u001b[1;31m---------------------------------------------------------------------------\u001b[0m",
      "\u001b[1;31mRuntimeError\u001b[0m                              Traceback (most recent call last)",
      "\u001b[1;32mc:\\Documents_Austin\\Spring 2023\\NeuralNetworks\\rnnLSTM\\RNN.ipynb Cell 13\u001b[0m in \u001b[0;36m<module>\u001b[1;34m\u001b[0m\n\u001b[0;32m      <a href='vscode-notebook-cell:/c%3A/Documents_Austin/Spring%202023/NeuralNetworks/rnnLSTM/RNN.ipynb#X22sZmlsZQ%3D%3D?line=6'>7</a>\u001b[0m h0 \u001b[39m=\u001b[39m torch\u001b[39m.\u001b[39mrandn(D \u001b[39m*\u001b[39m num_layers, hidden_size)\n\u001b[0;32m      <a href='vscode-notebook-cell:/c%3A/Documents_Austin/Spring%202023/NeuralNetworks/rnnLSTM/RNN.ipynb#X22sZmlsZQ%3D%3D?line=7'>8</a>\u001b[0m c0 \u001b[39m=\u001b[39m torch\u001b[39m.\u001b[39mrandn(D \u001b[39m*\u001b[39m num_layers, hidden_size)\n\u001b[1;32m---> <a href='vscode-notebook-cell:/c%3A/Documents_Austin/Spring%202023/NeuralNetworks/rnnLSTM/RNN.ipynb#X22sZmlsZQ%3D%3D?line=9'>10</a>\u001b[0m output, (hn, cn) \u001b[39m=\u001b[39m rnn(\u001b[39minput\u001b[39;49m, (h0, c0))\n",
      "File \u001b[1;32mc:\\Users\\austi\\AppData\\Local\\Programs\\Python\\Python39\\lib\\site-packages\\torch\\nn\\modules\\module.py:1110\u001b[0m, in \u001b[0;36mModule._call_impl\u001b[1;34m(self, *input, **kwargs)\u001b[0m\n\u001b[0;32m   1106\u001b[0m \u001b[39m# If we don't have any hooks, we want to skip the rest of the logic in\u001b[39;00m\n\u001b[0;32m   1107\u001b[0m \u001b[39m# this function, and just call forward.\u001b[39;00m\n\u001b[0;32m   1108\u001b[0m \u001b[39mif\u001b[39;00m \u001b[39mnot\u001b[39;00m (\u001b[39mself\u001b[39m\u001b[39m.\u001b[39m_backward_hooks \u001b[39mor\u001b[39;00m \u001b[39mself\u001b[39m\u001b[39m.\u001b[39m_forward_hooks \u001b[39mor\u001b[39;00m \u001b[39mself\u001b[39m\u001b[39m.\u001b[39m_forward_pre_hooks \u001b[39mor\u001b[39;00m _global_backward_hooks\n\u001b[0;32m   1109\u001b[0m         \u001b[39mor\u001b[39;00m _global_forward_hooks \u001b[39mor\u001b[39;00m _global_forward_pre_hooks):\n\u001b[1;32m-> 1110\u001b[0m     \u001b[39mreturn\u001b[39;00m forward_call(\u001b[39m*\u001b[39m\u001b[39minput\u001b[39m, \u001b[39m*\u001b[39m\u001b[39m*\u001b[39mkwargs)\n\u001b[0;32m   1111\u001b[0m \u001b[39m# Do not call functions when jit is used\u001b[39;00m\n\u001b[0;32m   1112\u001b[0m full_backward_hooks, non_full_backward_hooks \u001b[39m=\u001b[39m [], []\n",
      "File \u001b[1;32mc:\\Users\\austi\\AppData\\Local\\Programs\\Python\\Python39\\lib\\site-packages\\torch\\nn\\modules\\rnn.py:761\u001b[0m, in \u001b[0;36mLSTM.forward\u001b[1;34m(self, input, hx)\u001b[0m\n\u001b[0;32m    759\u001b[0m \u001b[39mself\u001b[39m\u001b[39m.\u001b[39mcheck_forward_args(\u001b[39minput\u001b[39m, hx, batch_sizes)\n\u001b[0;32m    760\u001b[0m \u001b[39mif\u001b[39;00m batch_sizes \u001b[39mis\u001b[39;00m \u001b[39mNone\u001b[39;00m:\n\u001b[1;32m--> 761\u001b[0m     result \u001b[39m=\u001b[39m _VF\u001b[39m.\u001b[39;49mlstm(\u001b[39minput\u001b[39;49m, hx, \u001b[39mself\u001b[39;49m\u001b[39m.\u001b[39;49m_flat_weights, \u001b[39mself\u001b[39;49m\u001b[39m.\u001b[39;49mbias, \u001b[39mself\u001b[39;49m\u001b[39m.\u001b[39;49mnum_layers,\n\u001b[0;32m    762\u001b[0m                       \u001b[39mself\u001b[39;49m\u001b[39m.\u001b[39;49mdropout, \u001b[39mself\u001b[39;49m\u001b[39m.\u001b[39;49mtraining, \u001b[39mself\u001b[39;49m\u001b[39m.\u001b[39;49mbidirectional, \u001b[39mself\u001b[39;49m\u001b[39m.\u001b[39;49mbatch_first)\n\u001b[0;32m    763\u001b[0m \u001b[39melse\u001b[39;00m:\n\u001b[0;32m    764\u001b[0m     result \u001b[39m=\u001b[39m _VF\u001b[39m.\u001b[39mlstm(\u001b[39minput\u001b[39m, batch_sizes, hx, \u001b[39mself\u001b[39m\u001b[39m.\u001b[39m_flat_weights, \u001b[39mself\u001b[39m\u001b[39m.\u001b[39mbias,\n\u001b[0;32m    765\u001b[0m                       \u001b[39mself\u001b[39m\u001b[39m.\u001b[39mnum_layers, \u001b[39mself\u001b[39m\u001b[39m.\u001b[39mdropout, \u001b[39mself\u001b[39m\u001b[39m.\u001b[39mtraining, \u001b[39mself\u001b[39m\u001b[39m.\u001b[39mbidirectional)\n",
      "\u001b[1;31mRuntimeError\u001b[0m: expected scalar type Long but found Float"
     ]
    }
   ],
   "source": [
    "hidden_size = 64\n",
    "num_layers = 2\n",
    "rnn = nn.LSTM(input_size=2, hidden_size=hidden_size, num_layers=num_layers, bidirectional=True)\n",
    "\n",
    "D = 2\n",
    "input = arr\n",
    "h0 = torch.randn(D * num_layers, hidden_size)\n",
    "c0 = torch.randn(D * num_layers, hidden_size)\n",
    "\n",
    "output, (hn, cn) = rnn(input, (h0, c0))"
   ]
  },
  {
   "cell_type": "code",
   "execution_count": 2,
   "metadata": {},
   "outputs": [],
   "source": [
    "rnn = nn.RNN(10, 20, 2)\n",
    "h0 = torch.randn(2, 3, 20)\n",
    "output, hn = rnn(input, h0)"
   ]
  },
  {
   "cell_type": "code",
   "execution_count": 3,
   "metadata": {},
   "outputs": [
    {
     "data": {
      "text/plain": [
       "tensor([[[-7.7515e-01, -6.2970e-01, -4.1391e-02, -9.0979e-01, -6.0172e-02,\n",
       "           9.0428e-01,  8.5135e-01,  1.3005e-01, -9.8243e-02, -4.3599e-01,\n",
       "           5.7951e-02, -1.8930e-01, -5.4880e-01, -6.7055e-01, -5.3618e-01,\n",
       "          -6.7847e-01, -4.2819e-02, -5.0814e-01, -3.5833e-01, -4.3119e-02],\n",
       "         [-6.9912e-01,  4.7982e-01,  3.6744e-01, -5.4635e-01, -3.0642e-01,\n",
       "           1.9530e-01, -4.2088e-01,  3.0594e-01,  6.3326e-01, -4.7822e-01,\n",
       "           7.4071e-02, -7.0710e-01,  2.2135e-01, -3.7941e-01, -4.9712e-01,\n",
       "           4.6727e-01,  1.8716e-01,  1.3151e-01, -4.3147e-01, -8.4226e-01],\n",
       "         [-8.3876e-01, -7.4943e-03, -1.0124e-01, -5.4867e-01,  3.3398e-01,\n",
       "           9.6304e-01, -4.3037e-01,  8.4618e-01, -4.8463e-01, -2.0326e-01,\n",
       "          -5.4331e-01,  2.4944e-01, -5.4894e-01, -3.9072e-01, -3.1265e-01,\n",
       "          -3.2740e-01, -4.5764e-01, -5.3447e-02,  3.5748e-01,  2.2720e-01]],\n",
       "\n",
       "        [[ 2.3301e-01,  4.9354e-01,  6.0046e-02, -4.4865e-01, -5.1506e-01,\n",
       "          -3.7624e-01, -7.2710e-01,  5.0287e-01,  3.3547e-01,  1.5475e-01,\n",
       "          -3.0722e-01, -4.7343e-01,  5.2257e-01, -6.0540e-01, -4.8519e-01,\n",
       "          -1.2738e-01, -1.6211e-01,  2.4039e-01, -1.8708e-01, -3.9668e-01],\n",
       "         [-2.3154e-01,  1.1373e-01, -2.7722e-01, -3.6330e-02, -1.4155e-01,\n",
       "           5.7129e-01, -9.4777e-02,  6.6256e-01,  6.5408e-01,  2.5843e-01,\n",
       "          -9.7923e-02, -5.0598e-01,  6.2735e-02,  2.8941e-01, -7.4123e-02,\n",
       "          -2.7445e-01,  3.5082e-01,  4.7807e-01,  8.7698e-02, -8.2449e-02],\n",
       "         [-1.7935e-01,  3.9994e-01, -5.5504e-01,  2.8782e-01, -4.6915e-01,\n",
       "           5.1080e-01, -1.8243e-01,  7.2129e-01,  7.4608e-01, -3.4448e-02,\n",
       "          -9.2965e-02, -1.2113e-01,  5.8642e-01,  1.2595e-01, -4.5012e-01,\n",
       "          -5.9390e-01,  2.1194e-01, -7.2756e-01,  1.2628e-01, -5.1284e-01]],\n",
       "\n",
       "        [[-4.2831e-01,  1.6855e-02,  2.1983e-01, -3.4293e-01, -3.1785e-01,\n",
       "           5.4250e-01, -1.2568e-01,  4.4485e-01,  4.2025e-01,  1.5491e-01,\n",
       "           1.8678e-01, -5.1454e-01,  1.6332e-01,  2.4172e-01, -2.0421e-01,\n",
       "          -2.2490e-01,  1.6451e-01, -3.0130e-01, -6.2032e-01, -4.3566e-01],\n",
       "         [-3.8883e-01,  1.7722e-01,  1.1607e-01, -5.3559e-01, -2.8642e-01,\n",
       "           3.0930e-01,  1.7457e-01,  2.3623e-01,  4.3430e-01,  1.5583e-01,\n",
       "           1.2119e-02, -5.4074e-01,  3.4227e-01,  1.0894e-01, -6.1189e-01,\n",
       "          -4.8180e-01,  1.0812e-01, -3.6343e-01, -1.0548e-01, -3.9900e-01],\n",
       "         [-3.6601e-01,  2.5561e-01, -2.5382e-01, -5.7463e-01, -3.6842e-01,\n",
       "           1.1686e-01, -3.0232e-01,  2.7404e-01,  6.6512e-01,  1.7905e-01,\n",
       "           2.2062e-01, -6.5020e-01,  1.3918e-01, -5.5459e-02,  3.0364e-02,\n",
       "          -4.3531e-01,  9.5052e-02, -2.6163e-02,  1.0317e-03, -5.7741e-01]],\n",
       "\n",
       "        [[ 4.3386e-02,  2.8040e-01,  1.1844e-02, -2.2149e-01, -3.1475e-01,\n",
       "           5.7923e-01, -2.3336e-01,  7.0723e-01,  4.5900e-01,  3.4717e-03,\n",
       "           1.4881e-01, -3.9971e-01,  6.8931e-02,  2.7357e-01, -3.4063e-01,\n",
       "          -5.3282e-01,  1.4121e-01,  3.4874e-02,  5.7761e-02, -5.2781e-01],\n",
       "         [-4.1767e-01, -1.8279e-02, -2.0194e-01, -3.4167e-01,  2.9956e-02,\n",
       "           3.4321e-01, -1.1877e-01,  5.3356e-01,  3.0385e-01,  2.8856e-01,\n",
       "           6.3401e-02, -2.7721e-01,  2.9910e-01,  2.0795e-01, -2.7518e-01,\n",
       "          -5.8362e-01,  1.8548e-01, -1.9923e-01, -6.2871e-02, -5.3447e-01],\n",
       "         [ 1.2259e-01,  2.2974e-01,  2.0782e-02, -2.8684e-01, -2.9485e-01,\n",
       "           4.9597e-01, -1.8964e-01,  6.0941e-01,  3.7244e-01,  1.5764e-01,\n",
       "          -2.9196e-01, -4.5278e-01, -1.9622e-01, -3.8873e-02, -4.8549e-01,\n",
       "          -4.7005e-01,  1.1864e-01,  1.7840e-02, -6.0460e-01, -3.2302e-01]],\n",
       "\n",
       "        [[-9.8683e-02,  2.8848e-01,  2.9003e-01, -7.7323e-01, -2.2957e-01,\n",
       "           2.4143e-01,  2.0450e-02,  5.5337e-01,  3.0156e-01,  4.5685e-01,\n",
       "           7.9723e-02, -5.7233e-01,  6.5075e-02, -4.4480e-01, -4.6184e-01,\n",
       "          -1.5413e-01, -3.2206e-02,  4.1029e-04, -6.8246e-01, -5.0533e-01],\n",
       "         [-1.3410e-01,  2.5379e-02,  1.9871e-02, -3.0435e-01,  9.9753e-02,\n",
       "           4.3864e-01, -1.0314e-01,  5.8446e-01,  2.8642e-01,  3.9566e-01,\n",
       "          -9.1968e-02, -4.1524e-01,  1.7583e-01, -1.7153e-01, -5.0267e-01,\n",
       "          -1.1716e-01,  1.7321e-01, -9.0161e-02, -3.5068e-01, -3.0525e-01],\n",
       "         [ 2.1906e-01,  7.5663e-02,  4.0873e-01, -8.0096e-01,  4.9442e-02,\n",
       "           2.8480e-01, -1.0636e-01,  5.3538e-01,  3.8867e-02,  1.0120e-01,\n",
       "           4.4107e-01, -4.6464e-01,  3.5618e-03, -6.5994e-01, -1.6050e-01,\n",
       "          -4.1807e-01, -2.2713e-01, -2.0780e-01, -5.8511e-01, -4.1402e-01]]],\n",
       "       grad_fn=<StackBackward0>)"
      ]
     },
     "execution_count": 3,
     "metadata": {},
     "output_type": "execute_result"
    }
   ],
   "source": [
    "output"
   ]
  }
 ],
 "metadata": {
  "kernelspec": {
   "display_name": "Python 3",
   "language": "python",
   "name": "python3"
  },
  "language_info": {
   "codemirror_mode": {
    "name": "ipython",
    "version": 3
   },
   "file_extension": ".py",
   "mimetype": "text/x-python",
   "name": "python",
   "nbconvert_exporter": "python",
   "pygments_lexer": "ipython3",
   "version": "3.9.7"
  },
  "orig_nbformat": 4
 },
 "nbformat": 4,
 "nbformat_minor": 2
}
